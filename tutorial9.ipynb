{
 "cells": [
  {
   "cell_type": "code",
   "execution_count": 1,
   "metadata": {},
   "outputs": [],
   "source": [
    "def test(x, y):\n",
    "    return x * y"
   ]
  },
  {
   "cell_type": "code",
   "execution_count": 2,
   "metadata": {},
   "outputs": [
    {
     "data": {
      "text/plain": [
       "199"
      ]
     },
     "execution_count": 2,
     "metadata": {},
     "output_type": "execute_result"
    }
   ],
   "source": [
    "test(1, 199)"
   ]
  },
  {
   "cell_type": "code",
   "execution_count": 3,
   "metadata": {},
   "outputs": [
    {
     "data": {
      "text/plain": [
       "300"
      ]
     },
     "execution_count": 3,
     "metadata": {},
     "output_type": "execute_result"
    }
   ],
   "source": [
    "def test2(x):\n",
    "    return x * 3\n",
    "\n",
    "test2(100)"
   ]
  },
  {
   "cell_type": "code",
   "execution_count": 4,
   "metadata": {},
   "outputs": [
    {
     "data": {
      "text/plain": [
       "300"
      ]
     },
     "execution_count": 4,
     "metadata": {},
     "output_type": "execute_result"
    }
   ],
   "source": [
    "def test3(q, x):\n",
    "    return q(x)\n",
    "\n",
    "test3(test2, 100)"
   ]
  },
  {
   "cell_type": "code",
   "execution_count": 5,
   "metadata": {},
   "outputs": [
    {
     "data": {
      "text/plain": [
       "28"
      ]
     },
     "execution_count": 5,
     "metadata": {},
     "output_type": "execute_result"
    }
   ],
   "source": [
    "test3(lambda z: z * 4, 7)"
   ]
  },
  {
   "cell_type": "code",
   "execution_count": 7,
   "metadata": {},
   "outputs": [
    {
     "data": {
      "text/plain": [
       "8"
      ]
     },
     "execution_count": 7,
     "metadata": {},
     "output_type": "execute_result"
    }
   ],
   "source": [
    "def test(b, c=3, d='hello'):\n",
    "    return b+c\n",
    "\n",
    "test(5, 3, 'hello')"
   ]
  },
  {
   "cell_type": "code",
   "execution_count": 8,
   "metadata": {},
   "outputs": [
    {
     "data": {
      "text/plain": [
       "8"
      ]
     },
     "execution_count": 8,
     "metadata": {},
     "output_type": "execute_result"
    }
   ],
   "source": [
    "test(5, 3)"
   ]
  },
  {
   "cell_type": "code",
   "execution_count": 9,
   "metadata": {},
   "outputs": [
    {
     "data": {
      "text/plain": [
       "8"
      ]
     },
     "execution_count": 9,
     "metadata": {},
     "output_type": "execute_result"
    }
   ],
   "source": [
    "test(5)"
   ]
  },
  {
   "cell_type": "code",
   "execution_count": 11,
   "metadata": {},
   "outputs": [
    {
     "name": "stdout",
     "output_type": "stream",
     "text": [
      "1\n",
      "1\n",
      "1\n"
     ]
    }
   ],
   "source": [
    "def test(a,b,c):\n",
    "    return a-b\n",
    "\n",
    "print(test(2,1,43))\n",
    "print(test(c=43,b=1, a=2))\n",
    "print(test(2, c=43, b=1))"
   ]
  },
  {
   "cell_type": "code",
   "execution_count": 13,
   "metadata": {},
   "outputs": [
    {
     "name": "stdout",
     "output_type": "stream",
     "text": [
      "abcasklfjasdfas....defasklfjasdfas....ghi\n"
     ]
    }
   ],
   "source": [
    "print('asklfjasdfas....'.join(['abc','def','ghi']))"
   ]
  },
  {
   "cell_type": "code",
   "execution_count": 14,
   "metadata": {},
   "outputs": [
    {
     "name": "stdout",
     "output_type": "stream",
     "text": [
      "['sdf', 'sdfsdf', 'dsfds', '']\n"
     ]
    }
   ],
   "source": [
    "print('sdf:sdfsdf:dsfds:'.split(':'))"
   ]
  },
  {
   "cell_type": "code",
   "execution_count": 15,
   "metadata": {},
   "outputs": [
    {
     "data": {
      "text/plain": [
       "'hi2hi'"
      ]
     },
     "execution_count": 15,
     "metadata": {},
     "output_type": "execute_result"
    }
   ],
   "source": [
    "\"hi\"+str(2)+'hi'"
   ]
  },
  {
   "cell_type": "code",
   "execution_count": 19,
   "metadata": {},
   "outputs": [
    {
     "name": "stdout",
     "output_type": "stream",
     "text": [
      "Hihi\n"
     ]
    }
   ],
   "source": [
    "class student:\n",
    "    \n",
    "    def __init__(self, name, age):\n",
    "        self.name = name\n",
    "        self.age = age\n",
    "    \n",
    "    def __repr__(self):\n",
    "        return 'Hi'+self.name\n",
    "    \n",
    "\n",
    "f = student('hi', 23)\n",
    "print(f)"
   ]
  },
  {
   "cell_type": "code",
   "execution_count": 21,
   "metadata": {},
   "outputs": [
    {
     "name": "stdout",
     "output_type": "stream",
     "text": [
      "abc hi 34\n"
     ]
    }
   ],
   "source": [
    "x = 'abc'\n",
    "y = 34\n",
    "print('%s hi %d'%(x,y))"
   ]
  },
  {
   "cell_type": "code",
   "execution_count": 22,
   "metadata": {},
   "outputs": [
    {
     "name": "stdout",
     "output_type": "stream",
     "text": [
      "None\n",
      "<class '__main__.student'>\n",
      "Hiwhat\n"
     ]
    }
   ],
   "source": [
    "print(f.__doc__)\n",
    "print(f.__class__)\n",
    "print(f.__class__('what', 333))"
   ]
  },
  {
   "cell_type": "code",
   "execution_count": 23,
   "metadata": {},
   "outputs": [],
   "source": [
    "def divide(x, y):\n",
    "    try:\n",
    "        result = x/y\n",
    "    except ZeroDivisionError:\n",
    "        print(\"div by zero\")\n",
    "    else:\n",
    "        print(\"result : \", result)\n",
    "    finally:\n",
    "        print(\"END\")"
   ]
  },
  {
   "cell_type": "code",
   "execution_count": 24,
   "metadata": {},
   "outputs": [
    {
     "name": "stdout",
     "output_type": "stream",
     "text": [
      "result :  2.0\n",
      "END\n",
      "None\n",
      "div by zero\n",
      "END\n",
      "None\n"
     ]
    }
   ],
   "source": [
    "print(divide(2,1))\n",
    "print(divide(2, 0))\n"
   ]
  },
  {
   "cell_type": "code",
   "execution_count": 25,
   "metadata": {},
   "outputs": [
    {
     "name": "stdout",
     "output_type": "stream",
     "text": [
      "1\n",
      "2\n"
     ]
    }
   ],
   "source": [
    "for e in [1,2]:\n",
    "    print(e)"
   ]
  },
  {
   "cell_type": "code",
   "execution_count": 28,
   "metadata": {},
   "outputs": [],
   "source": [
    "def merge(l, r):\n",
    "    llen, rlen, i, j = len(l), len(r), 0, 0\n",
    "    while i < llen or j < rlen:\n",
    "        if j == rlen or (i < llen and l[i] < r[j]):\n",
    "            yield l[i]\n",
    "            i = i + 1\n",
    "        else:\n",
    "            yield r[j]\n",
    "            j = j + 1"
   ]
  },
  {
   "cell_type": "code",
   "execution_count": 29,
   "metadata": {},
   "outputs": [
    {
     "data": {
      "text/plain": [
       "[1, 2, 2, 3, 4]"
      ]
     },
     "execution_count": 29,
     "metadata": {},
     "output_type": "execute_result"
    }
   ],
   "source": [
    "[x for x in merge([1,2,3], [2,4])]"
   ]
  },
  {
   "cell_type": "code",
   "execution_count": 44,
   "metadata": {},
   "outputs": [],
   "source": [
    "class DiGraph:\n",
    "    def __init__(self, edges):\n",
    "        self.adj = {}\n",
    "        for u, v in edges:\n",
    "            if u not in self.adj: self.adj[u] = [v]\n",
    "        else: self.adj[u].append(v)\n",
    "\n",
    "    def __str__(self):\n",
    "        return '\\n'.join(['%s -> %s'%(u,v) for u in self.adj for v in self.adj[u]])\n",
    "    \n",
    "    def search(self, u, visited=set()):\n",
    "        if u not in visited:\n",
    "            yield u\n",
    "            visited.add(u)\n",
    "            if u in self.adj:\n",
    "                for v in self.adj[u]:\n",
    "                    for w in self.search(v, visited):\n",
    "                        yield w"
   ]
  },
  {
   "cell_type": "code",
   "execution_count": 45,
   "metadata": {},
   "outputs": [],
   "source": [
    "d = DiGraph([(1,2), (1,3), (2,4), (4,3), (4,1)])"
   ]
  },
  {
   "cell_type": "code",
   "execution_count": 46,
   "metadata": {},
   "outputs": [
    {
     "data": {
      "text/plain": [
       "[1, 2, 4, 3]"
      ]
     },
     "execution_count": 46,
     "metadata": {},
     "output_type": "execute_result"
    }
   ],
   "source": [
    "[v for v in d.search(1)]"
   ]
  }
 ],
 "metadata": {
  "kernelspec": {
   "display_name": "Python 3",
   "language": "python",
   "name": "python3"
  },
  "language_info": {
   "codemirror_mode": {
    "name": "ipython",
    "version": 3
   },
   "file_extension": ".py",
   "mimetype": "text/x-python",
   "name": "python",
   "nbconvert_exporter": "python",
   "pygments_lexer": "ipython3",
   "version": "3.7.9"
  }
 },
 "nbformat": 4,
 "nbformat_minor": 4
}
