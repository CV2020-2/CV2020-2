{
 "cells": [
  {
   "cell_type": "markdown",
   "metadata": {},
   "source": [
    "# For Loops\n",
    "\n",
    " For-each is Python’s only form of for loop<br>\n",
    " A for loop steps through each of the items in a collection<br>\n",
    "type, or any other type of object which is “iterable”<br>\n",
    "for item in collection:<br>\n",
    "statements<br><br>\n",
    "\n",
    " If collection is a list or a tuple, then the loop steps through each element of the sequence.<br>\n",
    "\n",
    " If collection is a string, then the loop steps through each character of the string.<br>\n",
    "for someChar in “Hello World”:<br>\n",
    "    print char"
   ]
  },
  {
   "cell_type": "markdown",
   "metadata": {},
   "source": [
    "## item can be more complex than a single variable name.\n",
    " If the elements of <collection> are themselves collections,\n",
    "then <item> can match the structure of the elements. (We\n",
    "saw something similar with list comprehensions and with\n",
    "ordinary assignments.)<br>\n",
    "\n",
    "for (x, y) in [(a,1), (b,2), (c,3), (d,4)]:<br>\n",
    "    print x"
   ]
  },
  {
   "cell_type": "code",
   "execution_count": 2,
   "metadata": {},
   "outputs": [
    {
     "name": "stdout",
     "output_type": "stream",
     "text": [
      "0\n",
      "1\n",
      "2\n",
      "3\n",
      "4\n"
     ]
    }
   ],
   "source": [
    "for x in range(5):\n",
    "    print(x)\n",
    "    "
   ]
  },
  {
   "cell_type": "code",
   "execution_count": 3,
   "metadata": {},
   "outputs": [
    {
     "name": "stdout",
     "output_type": "stream",
     "text": [
      "0 23423\n",
      "1 423432\n",
      "2 4234\n",
      "3 23423\n"
     ]
    }
   ],
   "source": [
    "li = [23423,423432,4234,23423]\n",
    "for i, x in enumerate(li):\n",
    "    print(i, x)"
   ]
  },
  {
   "cell_type": "code",
   "execution_count": null,
   "metadata": {},
   "outputs": [],
   "source": []
  }
 ],
 "metadata": {
  "kernelspec": {
   "display_name": "Python 3",
   "language": "python",
   "name": "python3"
  },
  "language_info": {
   "codemirror_mode": {
    "name": "ipython",
    "version": 3
   },
   "file_extension": ".py",
   "mimetype": "text/x-python",
   "name": "python",
   "nbconvert_exporter": "python",
   "pygments_lexer": "ipython3",
   "version": "3.7.6"
  }
 },
 "nbformat": 4,
 "nbformat_minor": 4
}
