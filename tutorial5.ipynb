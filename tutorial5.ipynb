{
 "cells": [
  {
   "cell_type": "markdown",
   "metadata": {},
   "source": [
    "# True and False\n",
    "\n",
    "## True and False are constants\n",
    "\n",
    "## Other values are treated as equivalent to either True or False when used in conditionals:\n",
    " False: zero, None, empty containers<br>\n",
    " True: non-zero numbers, non-empty objects<br>\n",
    " See PEP 8 for the most Pythonic ways to compare<br>\n",
    "\n",
    "## Comparison operators: ==, !=, <, <=, etc.\n",
    " X == Y<br>\n",
    " X and Y have same value (like Java equals method)<br>\n",
    " X is Y :<br>\n",
    " X and Y refer to the exact same object (like Java ==)<br>"
   ]
  },
  {
   "cell_type": "code",
   "execution_count": 3,
   "metadata": {},
   "outputs": [
    {
     "name": "stdout",
     "output_type": "stream",
     "text": [
      "False\n",
      "True\n"
     ]
    }
   ],
   "source": [
    "x = True\n",
    "y = False\n",
    "\n",
    "print(x == y)\n",
    "y = True\n",
    "print(x and y)"
   ]
  },
  {
   "cell_type": "markdown",
   "metadata": {},
   "source": [
    "## Logical Operators\n",
    " You can also combine Boolean expressions.<br>\n",
    " True if a is True and b is True: a and b<br>\n",
    " True if a is True or b is True: a or b<br>\n",
    " True if a is False: not a<br>\n",
    "\n",
    "## Conditional Expressions\n",
    " x = true_value if condition else false_value<br>\n",
    "\n",
    " lazy evaluation:<br>\n",
    " First, condition is evaluated<br>\n",
    " If True, true_value is evaluated and returned<br>\n",
    " If False, false_value is evaluated and returned<br>"
   ]
  },
  {
   "cell_type": "code",
   "execution_count": 4,
   "metadata": {},
   "outputs": [
    {
     "name": "stdout",
     "output_type": "stream",
     "text": [
      "False\n",
      "True\n",
      "False\n"
     ]
    }
   ],
   "source": [
    "a = True\n",
    "b = False\n",
    "\n",
    "print(a and b)\n",
    "print(a or b)\n",
    "print(not a)"
   ]
  },
  {
   "cell_type": "code",
   "execution_count": null,
   "metadata": {},
   "outputs": [],
   "source": []
  }
 ],
 "metadata": {
  "kernelspec": {
   "display_name": "Python 3",
   "language": "python",
   "name": "python3"
  },
  "language_info": {
   "codemirror_mode": {
    "name": "ipython",
    "version": 3
   },
   "file_extension": ".py",
   "mimetype": "text/x-python",
   "name": "python",
   "nbconvert_exporter": "python",
   "pygments_lexer": "ipython3",
   "version": "3.7.6"
  }
 },
 "nbformat": 4,
 "nbformat_minor": 4
}
