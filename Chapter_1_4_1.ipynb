{
 "cells": [
  {
   "cell_type": "code",
   "execution_count": 1,
   "metadata": {},
   "outputs": [],
   "source": [
    "import cv2\n",
    "import numpy as np"
   ]
  },
  {
   "cell_type": "code",
   "execution_count": null,
   "metadata": {},
   "outputs": [],
   "source": [
    "cap = cv2.VideoCapture('tracking1.avi')\n",
    "while(1):\n",
    "    ret, frame = cap.read()\n",
    "    \n",
    "    \n",
    "    if ret == True:\n",
    "        hsv = cv2.cvtColor(frame, cv2.COLOR_BGR2HSV)\n",
    "    \n",
    "\n",
    "    \n",
    "    \n",
    "        lower_red = np.array([0, 40, 50])\n",
    "        upper_red = np.array([20,60,60])\n",
    "        \n",
    "    # blue color in HSV 참고 자료에서 나오는 뚜껑(파란색) 찾는 값\n",
    "    #lower_blue = np.array([110,50,50])\n",
    "    #upper_blue = np.array([130,255,255])\n",
    "    \n",
    "        mask = cv2.inRange(hsv, lower_red, upper_red)\n",
    "    \n",
    "        res = cv2.bitwise_and(frame, frame, mask=mask)\n",
    "    \n",
    "        cv2.imshow('frame', frame)\n",
    "        cv2.imshow('mask', mask)\n",
    "        cv2.imshow('res', res)\n",
    "    \n",
    "        k = cv2.waitKey(5) & 0xFF\n",
    "    if k == 27:\n",
    "        break\n",
    "        \n",
    "        \n",
    "cv2.destoryAllWindows()"
   ]
  },
  {
   "cell_type": "code",
   "execution_count": null,
   "metadata": {},
   "outputs": [],
   "source": []
  }
 ],
 "metadata": {
  "kernelspec": {
   "display_name": "Python 3",
   "language": "python",
   "name": "python3"
  },
  "language_info": {
   "codemirror_mode": {
    "name": "ipython",
    "version": 3
   },
   "file_extension": ".py",
   "mimetype": "text/x-python",
   "name": "python",
   "nbconvert_exporter": "python",
   "pygments_lexer": "ipython3",
   "version": "3.7.9"
  }
 },
 "nbformat": 4,
 "nbformat_minor": 4
}
